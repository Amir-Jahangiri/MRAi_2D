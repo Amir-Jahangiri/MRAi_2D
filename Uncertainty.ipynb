{
 "cells": [
  {
   "cell_type": "code",
   "execution_count": null,
   "metadata": {},
   "outputs": [],
   "source": [
    "import time\n",
    "import numpy as np\n",
    "import nmrglue as ng\n",
    "import MRAi_2D as ma\n",
    "import Proc_2D as pr\n",
    "import matplotlib.pyplot as plt\n",
    "plt.rcParams.update({'font.size':25})"
   ]
  },
  {
   "cell_type": "code",
   "execution_count": null,
   "metadata": {},
   "outputs": [],
   "source": [
    "%%time\n",
    "spectrum = \"Malt.ft2\"\n",
    "dic , Ref = ng.pipe.read(\"Spectra/\"+spectrum)\n",
    "Echo = pr.convertors.VE_to_E(Ref)\n",
    "Anti = pr.convertors.VE_to_AE(Ref)\n",
    "np.random.seed(0)\n",
    "ind_NUS = pr.NUS_sampler.NS(64,128,\"PG\")\n",
    "NUS = pr.convertors.US_to_NUS(Ref,ind_NUS)"
   ]
  },
  {
   "cell_type": "code",
   "execution_count": null,
   "metadata": {},
   "outputs": [],
   "source": [
    "%%time\n",
    "DNN_dirc = \"Trained_NN/Echo/\"\n",
    "\n",
    "WNN_Echo_Un = ma.Production.Uncertainty(Echo,DNN_dirc+\"Un_WNN/\")\n",
    "WNN_Anti_Un = pr.convertors.flip(ma.Production.Uncertainty(pr.convertors.flip(Anti),DNN_dirc+\"Un_WNN/\"))\n",
    "CS_Echo_Un = ma.Production.Uncertainty(Echo,DNN_dirc+\"Un_CS/\")\n",
    "CS_Anti_Un = pr.convertors.flip(ma.Production.Uncertainty(pr.convertors.flip(Anti),DNN_dirc+\"Un_CS/\"))\n",
    "CS_NUS_Un = ma.Production.Uncertainty(NUS,DNN_dirc+\"Un_CS_NUS/\")"
   ]
  },
  {
   "cell_type": "code",
   "execution_count": null,
   "metadata": {},
   "outputs": [],
   "source": [
    "%%time\n",
    "WNN_Echo = ma.Production.Echo_Rec(Echo,DNN_dirc+\"EAE/\")\n",
    "WNN_Anti = pr.convertors.flip(ma.Production.Echo_Rec(pr.convertors.flip(Anti),DNN_dirc+\"EAE/\"))\n",
    "CS_Echo = pr.CS.E_US(Echo,200)\n",
    "CS_Anti = pr.convertors.flip(pr.CS.E_US(pr.convertors.flip(Anti),200))\n",
    "CS_NUS = pr.CS.NUS_US(NUS,ind_NUS,200)"
   ]
  },
  {
   "cell_type": "code",
   "execution_count": null,
   "metadata": {},
   "outputs": [],
   "source": [
    "%%time\n",
    "limits = {\"Ubi.ft2\": [800, 1500],\"Azurin.ft2\": [250, 1800],\"Tau.ft2\": [1100, 1330],\n",
    "          \"Malt.ft2\": [100, 800],\"Data.ft2\":[1,4096]}\n",
    "limit = limits.get(spectrum)\n",
    "dic_EX , Ref_R = ng.process.pipe_proc.ext(dic.copy(), Ref, x1= limit[0] , xn= limit[1])\n",
    "\n",
    "dic_EX , WNN_Echo_R = ng.process.pipe_proc.ext(dic.copy(), WNN_Echo, x1= limit[0] , xn= limit[1])\n",
    "dic_EX , WNN_Anti_R = ng.process.pipe_proc.ext(dic.copy(), WNN_Anti, x1= limit[0] , xn= limit[1])\n",
    "dic_EX , WNN_Echo_Un_R = ng.process.pipe_proc.ext(dic.copy(), WNN_Echo_Un, x1= limit[0] , xn= limit[1])\n",
    "dic_EX , WNN_Anti_Un_R = ng.process.pipe_proc.ext(dic.copy(), WNN_Anti_Un, x1= limit[0] , xn= limit[1])\n",
    "\n",
    "dic_EX , CS_Echo_R = ng.process.pipe_proc.ext(dic.copy(), CS_Echo, x1= limit[0] , xn= limit[1])\n",
    "dic_EX , CS_Anti_R = ng.process.pipe_proc.ext(dic.copy(), CS_Anti, x1= limit[0] , xn= limit[1])\n",
    "dic_EX , CS_Echo_Un_R = ng.process.pipe_proc.ext(dic.copy(), CS_Echo_Un, x1= limit[0] , xn= limit[1])\n",
    "dic_EX , CS_Anti_Un_R = ng.process.pipe_proc.ext(dic.copy(), CS_Anti_Un, x1= limit[0] , xn= limit[1])\n",
    "\n",
    "dic_EX , CS_NUS_R = ng.process.pipe_proc.ext(dic.copy(), CS_NUS, x1= limit[0] , xn= limit[1])\n",
    "dic_EX , CS_NUS_Un_R = ng.process.pipe_proc.ext(dic.copy(), CS_NUS_Un, x1= limit[0] , xn= limit[1])\n"
   ]
  },
  {
   "cell_type": "code",
   "execution_count": null,
   "metadata": {},
   "outputs": [],
   "source": [
    "%%time\n",
    "contours = {\"Ubi.ft2\": [0.03,1.2,20] ,\"Azurin.ft2\": [0.02,1.2,20],\"Tau.ft2\": [0.04,1.2,20],\n",
    "            \"Malt.ft2\": [0.025,1.2,20],\"Data.ft2\": [0.02,1.2,20]}\n",
    "lims = {\"Ubi.ft2\": [9.9,6,130,100],\"Azurin.ft2\": [10,5.6,135,100],\"Tau.ft2\": [8.5, 7.6,130, 105],\n",
    "        \"Malt.ft2\": [10, 6.5,136, 100],\"Data.ft2\": [12.7,-3.3,138,98]}\n",
    "\n",
    "fig, ax = plt.subplots(1,4,figsize=(4*10,10))\n",
    "cmap = [plt.cm.Greys_r,plt.cm.Reds_r]    #[+,-] contour map (colors to use for contours)\n",
    "contour = contours.get(spectrum)         #[contour level start value, scaling factor between contour level]\n",
    "lim = lims.get(spectrum) \n",
    "\n",
    "pr.PLOTS.subp(ax[0],dic,WNN_Echo/np.max(Ref), \"Ai-Echo & Uncertainty\",\n",
    "     contour,cmap,lim,2*WNN_Echo_Un/np.max(Ref),plt.cm.spring)\n",
    "\n",
    "pr.PLOTS.subp(ax[1],dic,WNN_Anti/np.max(Ref), \"Ai-Anti & Uncertainty\",\n",
    "      contour,cmap,lim,2*WNN_Anti_Un/np.max(Ref),plt.cm.spring)\n",
    "\n",
    "pr.PLOTS.subp(ax[2],dic,CS_Anti/np.max(Ref),\"CS-Anti & Uncertainty\",\n",
    "      contour,cmap,lim,2*CS_Anti_Un/np.max(Ref),plt.cm.spring)\n",
    "\n",
    "pr.PLOTS.subp(ax[3],dic,CS_NUS/np.max(Ref),\"CS-NUS & Uncertainty\",\n",
    "      contour,cmap,lim,4*CS_NUS_Un/np.max(Ref),plt.cm.spring)\n",
    "\n",
    "ax[1].axes.yaxis.set_visible(False)\n",
    "ax[2].axes.yaxis.set_visible(False)\n",
    "ax[3].axes.yaxis.set_visible(False)\n",
    "\n",
    "plt.subplots_adjust(wspace=0.05, hspace=0.05)"
   ]
  },
  {
   "cell_type": "code",
   "execution_count": null,
   "metadata": {
    "scrolled": true
   },
   "outputs": [],
   "source": [
    "%%time\n",
    "def Selected_Un(Uncer,Pred,Noise_threshold,RMSD_threshold=1):\n",
    "    U = Uncer.flatten()/np.max(Pred)\n",
    "    P = Pred.flatten()/np.max(Pred)\n",
    "    return U[(np.abs(P)>Noise_threshold) & (np.abs(P)<=RMSD_threshold)]\n",
    "\n",
    "threshold = 0.01\n",
    "threshold_up = 1\n",
    "\n",
    "Label = ['Ai-Echo','Ai-Anti','CS-Echo','CS-Anti','CS-NUS']\n",
    "\n",
    "fig, ax = plt.subplots(1,1,figsize=(6,6))\n",
    "ax.boxplot([Selected_Un(WNN_Echo_Un_R,WNN_Echo_R,threshold,threshold_up),\n",
    "           Selected_Un(WNN_Anti_Un_R,WNN_Anti_R,threshold,threshold_up),\n",
    "           Selected_Un(CS_Echo_Un_R,CS_Echo_R,threshold,threshold_up),\n",
    "           Selected_Un(CS_Anti_Un_R,CS_Anti_R,threshold,threshold_up),\n",
    "           Selected_Un(CS_NUS_Un_R,CS_NUS_R,threshold,threshold_up)],\n",
    "           showfliers=False, showmeans=True)\n",
    "ax.locator_params(axis=\"y\", nbins=4)\n",
    "ax.tick_params(axis='x', labelrotation = 90)\n",
    "ax.set_xticklabels(Label)\n",
    "ax.grid()\n",
    "ax.set(ylabel='$\\sigma/S_{p_{max}}$')"
   ]
  },
  {
   "cell_type": "code",
   "execution_count": null,
   "metadata": {},
   "outputs": [],
   "source": [
    "%%time\n",
    "threshold = 0.01\n",
    "threshold_up = 1\n",
    "RR_U = np.zeros((5,1))\n",
    "RMSD_U = np.zeros((5,1))\n",
    "for j in range(1):\n",
    "    RR_U[0,j], RMSD_U[0,j] = pr.metric.CC_RMSD(Ref_R,WNN_Echo_R,threshold,threshold_up)\n",
    "    RR_U[1,j], RMSD_U[1,j] = pr.metric.CC_RMSD(Ref_R,WNN_Anti_R,threshold,threshold_up)\n",
    "    RR_U[2,j], RMSD_U[2,j] = pr.metric.CC_RMSD(Ref_R,CS_Echo_R,threshold,threshold_up)\n",
    "    RR_U[3,j], RMSD_U[3,j] = pr.metric.CC_RMSD(Ref_R,CS_Anti_R,threshold,threshold_up)\n",
    "    RR_U[4,j], RMSD_U[4,j] = pr.metric.CC_RMSD(Ref_R,CS_NUS_R,threshold,threshold_up)\n",
    "\n",
    "Label = ['Ai-Echo','Ai-Anti','CS-Echo','CS-Anti','CS-NUS']\n",
    "color = ['0.8','0.8','0.4','0.4','0.4']    \n",
    "\n",
    "pr.PLOTS.CC_RMSD_plt(Label,RR_U,RMSD_U,color)"
   ]
  },
  {
   "cell_type": "code",
   "execution_count": null,
   "metadata": {},
   "outputs": [],
   "source": [
    "%%time\n",
    "fig, ax = plt.subplots(1,4,figsize=(4*10,10))\n",
    "\n",
    "pr.PLOTS.subp(ax[0],dic,WNN_Echo/np.max(Ref), \"Ai-Echo & Error\",\n",
    "     contour,cmap,lim,np.abs(WNN_Echo-Ref)/np.max(Ref),plt.cm.autumn)\n",
    "\n",
    "pr.PLOTS.subp(ax[1],dic,WNN_Anti/np.max(Ref), \"Ai-Anti & Error\",\n",
    "     contour,cmap,lim,np.abs(WNN_Anti-Ref)/np.max(Ref),plt.cm.autumn)\n",
    "\n",
    "pr.PLOTS.subp(ax[2],dic,CS_Anti/np.max(Ref), \"CS-Anti & Error\",\n",
    "     contour,cmap,lim,np.abs(CS_Anti-Ref)/np.max(Ref),plt.cm.autumn)\n",
    "\n",
    "pr.PLOTS.subp(ax[3],dic,CS_NUS/np.max(Ref), \"CS-NUS & Error\",\n",
    "     contour,cmap,lim,2*np.abs(CS_NUS-Ref)/np.max(Ref),plt.cm.autumn)\n",
    "\n",
    "ax[1].axes.yaxis.set_visible(False)\n",
    "ax[2].axes.yaxis.set_visible(False)\n",
    "ax[3].axes.yaxis.set_visible(False)\n",
    "\n",
    "\n",
    "plt.subplots_adjust(wspace=0.05, hspace=0.05)"
   ]
  }
 ],
 "metadata": {
  "kernelspec": {
   "display_name": "Python 3 (ipykernel)",
   "language": "python",
   "name": "python3"
  },
  "language_info": {
   "codemirror_mode": {
    "name": "ipython",
    "version": 3
   },
   "file_extension": ".py",
   "mimetype": "text/x-python",
   "name": "python",
   "nbconvert_exporter": "python",
   "pygments_lexer": "ipython3",
   "version": "3.11.9"
  },
  "vscode": {
   "interpreter": {
    "hash": "2fca83337dcac369da84512e917aa9b61565d767608d7f25698176e75bcb605a"
   }
  }
 },
 "nbformat": 4,
 "nbformat_minor": 2
}
