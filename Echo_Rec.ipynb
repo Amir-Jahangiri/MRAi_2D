{
 "cells": [
  {
   "cell_type": "code",
   "execution_count": null,
   "metadata": {},
   "outputs": [],
   "source": [
    "import time\n",
    "import numpy as np\n",
    "import nmrglue as ng\n",
    "import MRAi_2D as ma\n",
    "import Proc_2D as pr\n",
    "import matplotlib.pyplot as plt\n",
    "plt.rcParams.update({'font.size':25})"
   ]
  },
  {
   "cell_type": "code",
   "execution_count": null,
   "metadata": {},
   "outputs": [],
   "source": [
    "%%time\n",
    "spectrum = \"Malt.ft2\"\n",
    "dic , Ref = ng.pipe.read(\"Spectra/\"+spectrum)\n",
    "Echo = pr.convertors.VE_to_E(Ref)\n",
    "Anti = pr.convertors.VE_to_AE(Ref)"
   ]
  },
  {
   "cell_type": "code",
   "execution_count": null,
   "metadata": {},
   "outputs": [],
   "source": [
    "%%time\n",
    "DNN_dirc = \"Trained_NN/Echo/\"\n",
    "\n",
    "WNN_Echo = ma.Production.Echo_Rec(Echo,DNN_dirc+\"EAE/\")\n",
    "WNN_Anti = pr.convertors.flip(ma.Production.Echo_Rec(pr.convertors.flip(Anti),DNN_dirc+\"EAE/\"))"
   ]
  },
  {
   "cell_type": "code",
   "execution_count": null,
   "metadata": {
    "scrolled": true
   },
   "outputs": [],
   "source": [
    "%%time\n",
    "CS_Echo = pr.CS.E_US(Echo,200)\n",
    "CS_Anti = pr.convertors.flip(pr.CS.E_US(pr.convertors.flip(Anti),200))"
   ]
  },
  {
   "cell_type": "code",
   "execution_count": null,
   "metadata": {},
   "outputs": [],
   "source": [
    "%%time\n",
    "np.random.seed(0)\n",
    "ind_NUS = pr.NUS_sampler.NS(64,128,\"PG\")\n",
    "NUS = pr.convertors.US_to_NUS(Ref,ind_NUS)\n",
    "CS_NUS = pr.CS.NUS_US(NUS,ind_NUS,200)"
   ]
  },
  {
   "cell_type": "code",
   "execution_count": null,
   "metadata": {},
   "outputs": [],
   "source": [
    "%%time\n",
    "contours = {\"Ubi.ft2\": [0.03,1.2,20] ,\"Azurin.ft2\": [0.02,1.2,20],\"Tau.ft2\": [0.04,1.2,20],\n",
    "            \"Malt.ft2\": [0.025,1.2,20],\"Data.ft2\": [0.02,1.2,20]}\n",
    "lims = {\"Ubi.ft2\": [9.9,6,130,100],\"Azurin.ft2\": [10,5.6,135,100],\"Tau.ft2\": [8.5, 7.6,130, 105],\n",
    "        \"Malt.ft2\": [10, 6.5,136, 100],\"Data.ft2\": [12.7,-3.3,138,98]}\n",
    "\n",
    "fig, ax = plt.subplots(3,2,figsize=(2*10,3*10))\n",
    "cmap = [plt.cm.Greys_r,plt.cm.Reds_r]    #[+,-] contour map (colors to use for contours)\n",
    "contour = contours.get(spectrum)         #[contour level start value, scaling factor between contour level]\n",
    "lim = lims.get(spectrum)                 #[xlim from,xlim to,ylim from,ylim to]\n",
    "\n",
    "pr.PLOTS.subp(ax[0,0],dic,Ref/np.max(Ref), \"Ref\",contour,cmap,lim)\n",
    "pr.PLOTS.subp(ax[0,1],dic,CS_NUS/np.max(Ref), \"CS-NUS\",contour,cmap,lim)\n",
    "\n",
    "pr.PLOTS.subp(ax[1,0],dic,WNN_Echo/np.max(Ref), \"Ai-Echo\",contour,cmap,lim)\n",
    "pr.PLOTS.subp(ax[1,1],dic,CS_Echo/np.max(Ref), \"CS-Echo\",contour,cmap,lim)\n",
    "\n",
    "pr.PLOTS.subp(ax[2,0],dic,WNN_Anti/np.max(Ref), \"Ai-Anti\",contour,cmap,lim)\n",
    "pr.PLOTS.subp(ax[2,1],dic,CS_Anti/np.max(Ref), \"CS-Anti\",contour,cmap,lim)\n",
    "\n",
    "ax[0,0].axes.xaxis.set_visible(False)\n",
    "ax[0,1].axes.xaxis.set_visible(False)\n",
    "ax[0,1].axes.yaxis.set_visible(False)\n",
    "ax[1,0].axes.xaxis.set_visible(False)\n",
    "ax[1,1].axes.xaxis.set_visible(False)\n",
    "ax[1,1].axes.yaxis.set_visible(False)\n",
    "ax[2,1].axes.yaxis.set_visible(False)\n",
    "\n",
    "plt.subplots_adjust(wspace=0.05, hspace=0.05)"
   ]
  }
 ],
 "metadata": {
  "kernelspec": {
   "display_name": "Python 3 (ipykernel)",
   "language": "python",
   "name": "python3"
  },
  "language_info": {
   "codemirror_mode": {
    "name": "ipython",
    "version": 3
   },
   "file_extension": ".py",
   "mimetype": "text/x-python",
   "name": "python",
   "nbconvert_exporter": "python",
   "pygments_lexer": "ipython3",
   "version": "3.11.9"
  },
  "vscode": {
   "interpreter": {
    "hash": "2fca83337dcac369da84512e917aa9b61565d767608d7f25698176e75bcb605a"
   }
  }
 },
 "nbformat": 4,
 "nbformat_minor": 2
}
