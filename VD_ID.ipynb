{
 "cells": [
  {
   "cell_type": "code",
   "execution_count": null,
   "metadata": {},
   "outputs": [],
   "source": [
    "import time\n",
    "import numpy as np\n",
    "import nmrglue as ng\n",
    "import MRAi_2D as ma\n",
    "import Proc_2D as pr\n",
    "import matplotlib.pyplot as plt\n",
    "plt.rcParams.update({'font.size':25})"
   ]
  },
  {
   "cell_type": "code",
   "execution_count": null,
   "metadata": {},
   "outputs": [],
   "source": [
    "%%time\n",
    "spectrum = \"Malt_CC.ft2\"\n",
    "Dic , Ref = ng.pipe.read(\"Spectra/\"+spectrum)\n",
    "dic , ref = pr.pipe_generator.iFT_ID(Dic,Ref)"
   ]
  },
  {
   "cell_type": "code",
   "execution_count": null,
   "metadata": {},
   "outputs": [],
   "source": [
    "%%time\n",
    "DNN_dirc = \"Trained_NN/VD_ID/\"\n",
    "VE = ma.convertors.US_VE(ref,256)\n",
    "pred = ma.Production.VD_ID(VE, DNN_dirc)\n",
    "ft1 = np.zeros_like(ref)\n",
    "ft1[:min(int(pred.shape[0]),int(ft1.shape[0]))] = pred[:min(int(pred.shape[0]),int(ft1.shape[0]))]\n",
    "_, VD = pr.pipe_generator.FT_ID(dic,ft1)\n"
   ]
  },
  {
   "cell_type": "code",
   "execution_count": null,
   "metadata": {},
   "outputs": [],
   "source": [
    "%%time\n",
    "\n",
    "fig, ax = plt.subplots(1,2,figsize=(2*10,10))\n",
    "cmap = [plt.cm.Greys_r,plt.cm.Reds_r]    #[+,-] contour map (colors to use for contours)\n",
    "contour = [0.03,1.3,10]         #[contour level start value, scaling factor between contour level]\n",
    "lim = [1.2, -0.8,26.5, 7.5]                 #[xlim from,xlim to,ylim from,ylim to]\n",
    "\n",
    "pr.PLOTS.subp(ax[0],Dic,Ref/np.max(Ref), \"Ref\",contour,cmap,lim)\n",
    "pr.PLOTS.subp(ax[1],Dic,VD/np.max(VD), \"VD\",contour,cmap,lim)\n",
    "\n",
    "ax[1].axes.yaxis.set_visible(False)\n",
    "\n",
    "plt.subplots_adjust(wspace=0.05, hspace=0.05)"
   ]
  }
 ],
 "metadata": {
  "kernelspec": {
   "display_name": "Python 3 (ipykernel)",
   "language": "python",
   "name": "python3"
  },
  "language_info": {
   "codemirror_mode": {
    "name": "ipython",
    "version": 3
   },
   "file_extension": ".py",
   "mimetype": "text/x-python",
   "name": "python",
   "nbconvert_exporter": "python",
   "pygments_lexer": "ipython3",
   "version": "3.11.9"
  },
  "vscode": {
   "interpreter": {
    "hash": "2fca83337dcac369da84512e917aa9b61565d767608d7f25698176e75bcb605a"
   }
  }
 },
 "nbformat": 4,
 "nbformat_minor": 2
}
