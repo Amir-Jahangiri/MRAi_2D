{
 "cells": [
  {
   "cell_type": "code",
   "execution_count": null,
   "metadata": {},
   "outputs": [],
   "source": [
    "import time\n",
    "import numpy as np\n",
    "import nmrglue as ng\n",
    "import MRAi_2D as ma\n",
    "import Proc_2D as pr\n",
    "import matplotlib.pyplot as plt\n",
    "plt.rcParams.update({'font.size':25})"
   ]
  },
  {
   "cell_type": "code",
   "execution_count": null,
   "metadata": {},
   "outputs": [],
   "source": [
    "%%time\n",
    "spectrum = \"Ubi.ft2\"\n",
    "Dic , Ref = ng.pipe.read(\"Spectra/\"+spectrum)\n",
    "\n",
    "DNN_dirc = \"Trained_NN/NUS/\"\n",
    "\n",
    "#The size of protein: Small, Medium, Large\n",
    "Protien_size = \"Small\"\n",
    "\n",
    "#The reconstraction scheme: WNN-F, WNN-P, WNN-R\n",
    "Method = \"WNN-F\"\n",
    "\n",
    "#In the case of WNN-F, used table is: S_0, S_1, ..., S_10\n",
    "NN_F = \"S_9\"\n",
    "\n",
    "DNN_dirc += Protien_size + '/' + Method +'/'\n",
    "if Method == \"WNN-F\":\n",
    "    DNN_dirc += NN_F + '/'\n",
    "\n",
    "nuslist_dirc = DNN_dirc + 'ind_NUS.txt'\n",
    "ind_NUS = []\n",
    "with open(nuslist_dirc) as f:\n",
    "    for line in f:\n",
    "        ind_NUS.append(int(line))\n",
    "        \n",
    "NUS = pr.convertors.US_to_NUS(Ref,ind_NUS)\n",
    "dic , nus = pr.pipe_generator.iFT_ID(Dic,NUS)\n"
   ]
  },
  {
   "cell_type": "code",
   "execution_count": null,
   "metadata": {},
   "outputs": [],
   "source": [
    "%%time\n",
    "VE = ma.convertors.US_VE(nus,128)\n",
    "pred = ma.Production.NUS_Rec(VE,ind_NUS,len(ind_NUS)/128,DNN_dirc)\n",
    "ft1 = np.zeros_like(nus)\n",
    "ft1[:min(int(pred.shape[0]),int(ft1.shape[0]))] = pred[:min(int(pred.shape[0]),int(ft1.shape[0]))]\n",
    "_, WNN = pr.pipe_generator.FT_ID(dic,ft1)\n",
    "CS = pr.CS.NUS_US(NUS,ind_NUS,200)\n"
   ]
  },
  {
   "cell_type": "code",
   "execution_count": null,
   "metadata": {},
   "outputs": [],
   "source": [
    "%%time\n",
    "fig, ax = plt.subplots(2,2,figsize=(2*10,2*10))\n",
    "cmap = [plt.cm.Greys_r,plt.cm.Reds_r]    #[+,-] contour map (colors to use for contours)\n",
    "contour = [0.025,1.3,15]         #[contour level start value, scaling factor between contour level]\n",
    "lim = [9.9,6,135,100]                 #[xlim from,xlim to,ylim from,ylim to]\n",
    "\n",
    "pr.PLOTS.subp(ax[0,0],Dic,NUS/np.max(NUS), \"NUS\",contour,cmap,lim)\n",
    "pr.PLOTS.subp(ax[0,1],Dic,Ref/np.max(Ref), \"Ref\",contour,cmap,lim)\n",
    "pr.PLOTS.subp(ax[1,0],Dic,WNN/np.max(Ref), \"WNN\",contour,cmap,lim)\n",
    "pr.PLOTS.subp(ax[1,1],Dic,CS/np.max(Ref), \"CS\",contour,cmap,lim)\n",
    "\n",
    "ax[0,0].axes.xaxis.set_visible(False)\n",
    "ax[0,1].axes.xaxis.set_visible(False)\n",
    "ax[0,1].axes.yaxis.set_visible(False)\n",
    "ax[1,1].axes.yaxis.set_visible(False)\n",
    "\n",
    "plt.subplots_adjust(wspace=0.05, hspace=0.05)"
   ]
  }
 ],
 "metadata": {
  "kernelspec": {
   "display_name": "Python 3 (ipykernel)",
   "language": "python",
   "name": "python3"
  },
  "language_info": {
   "codemirror_mode": {
    "name": "ipython",
    "version": 3
   },
   "file_extension": ".py",
   "mimetype": "text/x-python",
   "name": "python",
   "nbconvert_exporter": "python",
   "pygments_lexer": "ipython3",
   "version": "3.11.9"
  },
  "vscode": {
   "interpreter": {
    "hash": "2fca83337dcac369da84512e917aa9b61565d767608d7f25698176e75bcb605a"
   }
  }
 },
 "nbformat": 4,
 "nbformat_minor": 2
}
